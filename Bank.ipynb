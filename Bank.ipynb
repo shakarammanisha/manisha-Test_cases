{
 "cells": [
  {
   "cell_type": "code",
   "execution_count": 2,
   "id": "6eaad14a",
   "metadata": {},
   "outputs": [
    {
     "name": "stdout",
     "output_type": "stream",
     "text": [
      "Welcome to: SBI.bankname\n",
      "Enter your name: shakaram manisha\n",
      "d-Deposit \n",
      " w-Withdraw \n",
      " e-Exit\n",
      "Choose your option: D\n",
      "Enter amount: 6000\n",
      "Balance after deposit:  6000.0\n",
      "d-Deposit \n",
      " w-Withdraw \n",
      " e-Exit\n",
      "Choose your option: W\n",
      "Enter amount: 3000\n",
      "Balance after withdrawal:  3000.0\n",
      "d-Deposit \n",
      " w-Withdraw \n",
      " e-Exit\n",
      "Choose your option: E\n",
      "Thanks for banking with us!\n"
     ]
    },
    {
     "ename": "SystemExit",
     "evalue": "",
     "output_type": "error",
     "traceback": [
      "An exception has occurred, use %tb to see the full traceback.\n",
      "\u001b[1;31mSystemExit\u001b[0m\n"
     ]
    }
   ],
   "source": [
    "import sys\n",
    "\n",
    "class Customer:\n",
    "    \"\"\"Customer class with bank operations.\"\"\"\n",
    "\n",
    "    bankname = \"SBIBank\"\n",
    "\n",
    "    def __init__(self, name, balance=0.0):\n",
    "        self.name = name\n",
    "        self.balance = balance\n",
    "\n",
    "    def deposit(self, amt):\n",
    "        self.balance = self.balance + amt\n",
    "        print(\"Balance after deposit: \", self.balance)\n",
    "\n",
    "    def withdraw(self, amt):\n",
    "        if amt > self.balance:\n",
    "            print(\"Insufficient funds: cannot perform operation\")\n",
    "            sys.exit()\n",
    "        self.balance = self.balance - amt\n",
    "        print(\"Balance after withdrawal: \", self.balance)\n",
    "\n",
    "print(\"Welcome to:\", \"SBI.bankname\")\n",
    "name = input(\"Enter your name: \")\n",
    "c = Customer(name)\n",
    "while True:\n",
    "    print('d-Deposit \\n w-Withdraw \\n e-Exit')\n",
    "    option = input(\"Choose your option: \")\n",
    "    if option == 'd' or option == 'D':\n",
    "        amt = float(input(\"Enter amount: \"))\n",
    "        c.deposit(amt)\n",
    "    elif option == 'w' or option == 'W':\n",
    "        amt = float(input(\"Enter amount: \"))\n",
    "        c.withdraw(amt)\n",
    "    elif option == 'e' or option == 'E':\n",
    "        print(\"Thanks for banking with us!\")\n",
    "        sys.exit()\n",
    "    else:\n",
    "        print(\"Invalid option. Please enter a valid option\")\n",
    "        "
   ]
  }
 ],
 "metadata": {
  "kernelspec": {
   "display_name": "Python 3 (ipykernel)",
   "language": "python",
   "name": "python3"
  },
  "language_info": {
   "codemirror_mode": {
    "name": "ipython",
    "version": 3
   },
   "file_extension": ".py",
   "mimetype": "text/x-python",
   "name": "python",
   "nbconvert_exporter": "python",
   "pygments_lexer": "ipython3",
   "version": "3.11.3"
  }
 },
 "nbformat": 4,
 "nbformat_minor": 5
}
