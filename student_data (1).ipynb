{
 "cells": [
  {
   "cell_type": "code",
   "execution_count": 13,
   "id": "14210dc4",
   "metadata": {},
   "outputs": [],
   "source": [
    "import pandas as pd\n",
    "df2=pd.DataFrame({\"names\":['vineet','hisham','raj','ajeet','sujit','ramesh','priya','priyanka','suresh','ritesh','hitesh','jatin','chitesh','suman','raman','aman','ravi','shravi','chavvi','himanshu'],\"rno\":['1','2','3','4','5','6','7','8','9','10','11','12','13','14','15','16','17','18','19','20']})\n",
    "df3=pd.DataFrame({\"results\":['fail','fail','pass','pass','fail','pass','fail','pass','pass','pass','pass','fail','fail','fail','pass','fail','pass','fail','pass','pass'],\"rno\":['1','2','3','4','5','6','7','8','9','10','11','12','13','14','15','16','17','18','19','20']})\n"
   ]
  },
  {
   "cell_type": "code",
   "execution_count": 3,
   "id": "d81458bc",
   "metadata": {},
   "outputs": [
    {
     "name": "stdout",
     "output_type": "stream",
     "text": [
      "<class 'pandas.core.frame.DataFrame'>\n",
      "RangeIndex: 20 entries, 0 to 19\n",
      "Data columns (total 2 columns):\n",
      " #   Column  Non-Null Count  Dtype \n",
      "---  ------  --------------  ----- \n",
      " 0   names   20 non-null     object\n",
      " 1   rno     20 non-null     object\n",
      "dtypes: object(2)\n",
      "memory usage: 452.0+ bytes\n"
     ]
    }
   ],
   "source": [
    "df2.info()"
   ]
  },
  {
   "cell_type": "code",
   "execution_count": 4,
   "id": "17e201ab",
   "metadata": {},
   "outputs": [
    {
     "name": "stdout",
     "output_type": "stream",
     "text": [
      "<class 'pandas.core.frame.DataFrame'>\n",
      "RangeIndex: 20 entries, 0 to 19\n",
      "Data columns (total 2 columns):\n",
      " #   Column   Non-Null Count  Dtype \n",
      "---  ------   --------------  ----- \n",
      " 0   results  20 non-null     object\n",
      " 1   rno      20 non-null     object\n",
      "dtypes: object(2)\n",
      "memory usage: 452.0+ bytes\n"
     ]
    }
   ],
   "source": [
    "df3.info()"
   ]
  },
  {
   "cell_type": "code",
   "execution_count": 5,
   "id": "52fb0e5e",
   "metadata": {},
   "outputs": [
    {
     "data": {
      "text/plain": [
       "<bound method NDFrame.describe of        names rno\n",
       "0     vineet   1\n",
       "1     hisham   2\n",
       "2        raj   3\n",
       "3      ajeet   4\n",
       "4      sujit   5\n",
       "5     ramesh   6\n",
       "6      priya   7\n",
       "7   priyanka   8\n",
       "8     suresh   9\n",
       "9     ritesh  10\n",
       "10    hitesh  11\n",
       "11     jatin  12\n",
       "12   chitesh  13\n",
       "13     suman  14\n",
       "14     raman  15\n",
       "15      aman  16\n",
       "16      ravi  17\n",
       "17    shravi  18\n",
       "18    chavvi  19\n",
       "19  himanshu  20>"
      ]
     },
     "execution_count": 5,
     "metadata": {},
     "output_type": "execute_result"
    }
   ],
   "source": [
    "df2.describe"
   ]
  },
  {
   "cell_type": "code",
   "execution_count": 6,
   "id": "e7b9f439",
   "metadata": {},
   "outputs": [
    {
     "data": {
      "text/plain": [
       "<bound method NDFrame.describe of    results rno\n",
       "0     fail   1\n",
       "1     fail   2\n",
       "2     pass   3\n",
       "3     pass   4\n",
       "4     fail   5\n",
       "5     pass   6\n",
       "6     fail   7\n",
       "7     pass   8\n",
       "8     pass   9\n",
       "9     pass  10\n",
       "10    pass  11\n",
       "11    fail  12\n",
       "12    fail  13\n",
       "13    fail  14\n",
       "14    pass  15\n",
       "15    fail  16\n",
       "16    pass  17\n",
       "17    fail  18\n",
       "18    pass  19\n",
       "19    pass  20>"
      ]
     },
     "execution_count": 6,
     "metadata": {},
     "output_type": "execute_result"
    }
   ],
   "source": [
    "df3.describe"
   ]
  },
  {
   "cell_type": "code",
   "execution_count": 7,
   "id": "9f93d5ed",
   "metadata": {},
   "outputs": [
    {
     "name": "stdout",
     "output_type": "stream",
     "text": [
      "2          raj\n",
      "3        ajeet\n",
      "5       ramesh\n",
      "7     priyanka\n",
      "8       suresh\n",
      "9       ritesh\n",
      "10      hitesh\n",
      "14       raman\n",
      "16        ravi\n",
      "18      chavvi\n",
      "19    himanshu\n",
      "Name: names, dtype: object\n"
     ]
    }
   ],
   "source": [
    "df4 = pd.merge(df2, df3, on='rno')\n",
    "\n",
    "# Filter the rows where results is pass\n",
    "df5 = df4[df4['results'] == 'pass']\n",
    "\n",
    "# Print the names column\n",
    "print(df5['names'])"
   ]
  },
  {
   "cell_type": "code",
   "execution_count": 8,
   "id": "8508a29b",
   "metadata": {},
   "outputs": [
    {
     "data": {
      "text/plain": [
       "pass    11\n",
       "fail     9\n",
       "Name: results, dtype: int64"
      ]
     },
     "execution_count": 8,
     "metadata": {},
     "output_type": "execute_result"
    }
   ],
   "source": [
    "# Merge the dataframes on rno column\n",
    "df4 = pd.merge(df2, df3, on='rno')\n",
    "\n",
    "# Count the number of students who passed or failed\n",
    "df4['results'].value_counts()"
   ]
  },
  {
   "cell_type": "code",
   "execution_count": 20,
   "id": "abff7388",
   "metadata": {},
   "outputs": [
    {
     "data": {
      "text/html": [
       "<div>\n",
       "<style scoped>\n",
       "    .dataframe tbody tr th:only-of-type {\n",
       "        vertical-align: middle;\n",
       "    }\n",
       "\n",
       "    .dataframe tbody tr th {\n",
       "        vertical-align: top;\n",
       "    }\n",
       "\n",
       "    .dataframe thead th {\n",
       "        text-align: right;\n",
       "    }\n",
       "</style>\n",
       "<table border=\"1\" class=\"dataframe\">\n",
       "  <thead>\n",
       "    <tr style=\"text-align: right;\">\n",
       "      <th></th>\n",
       "      <th>names</th>\n",
       "      <th>rno</th>\n",
       "      <th>results</th>\n",
       "    </tr>\n",
       "  </thead>\n",
       "  <tbody>\n",
       "    <tr>\n",
       "      <th>3</th>\n",
       "      <td>ajeet</td>\n",
       "      <td>4</td>\n",
       "      <td>pass</td>\n",
       "    </tr>\n",
       "    <tr>\n",
       "      <th>15</th>\n",
       "      <td>aman</td>\n",
       "      <td>16</td>\n",
       "      <td>fail</td>\n",
       "    </tr>\n",
       "    <tr>\n",
       "      <th>18</th>\n",
       "      <td>chavvi</td>\n",
       "      <td>19</td>\n",
       "      <td>pass</td>\n",
       "    </tr>\n",
       "    <tr>\n",
       "      <th>12</th>\n",
       "      <td>chitesh</td>\n",
       "      <td>13</td>\n",
       "      <td>fail</td>\n",
       "    </tr>\n",
       "    <tr>\n",
       "      <th>19</th>\n",
       "      <td>himanshu</td>\n",
       "      <td>20</td>\n",
       "      <td>pass</td>\n",
       "    </tr>\n",
       "    <tr>\n",
       "      <th>1</th>\n",
       "      <td>hisham</td>\n",
       "      <td>2</td>\n",
       "      <td>fail</td>\n",
       "    </tr>\n",
       "    <tr>\n",
       "      <th>10</th>\n",
       "      <td>hitesh</td>\n",
       "      <td>11</td>\n",
       "      <td>pass</td>\n",
       "    </tr>\n",
       "    <tr>\n",
       "      <th>11</th>\n",
       "      <td>jatin</td>\n",
       "      <td>12</td>\n",
       "      <td>fail</td>\n",
       "    </tr>\n",
       "    <tr>\n",
       "      <th>6</th>\n",
       "      <td>priya</td>\n",
       "      <td>7</td>\n",
       "      <td>fail</td>\n",
       "    </tr>\n",
       "    <tr>\n",
       "      <th>7</th>\n",
       "      <td>priyanka</td>\n",
       "      <td>8</td>\n",
       "      <td>pass</td>\n",
       "    </tr>\n",
       "    <tr>\n",
       "      <th>2</th>\n",
       "      <td>raj</td>\n",
       "      <td>3</td>\n",
       "      <td>pass</td>\n",
       "    </tr>\n",
       "    <tr>\n",
       "      <th>14</th>\n",
       "      <td>raman</td>\n",
       "      <td>15</td>\n",
       "      <td>pass</td>\n",
       "    </tr>\n",
       "    <tr>\n",
       "      <th>5</th>\n",
       "      <td>ramesh</td>\n",
       "      <td>6</td>\n",
       "      <td>pass</td>\n",
       "    </tr>\n",
       "    <tr>\n",
       "      <th>16</th>\n",
       "      <td>ravi</td>\n",
       "      <td>17</td>\n",
       "      <td>pass</td>\n",
       "    </tr>\n",
       "    <tr>\n",
       "      <th>9</th>\n",
       "      <td>ritesh</td>\n",
       "      <td>10</td>\n",
       "      <td>pass</td>\n",
       "    </tr>\n",
       "    <tr>\n",
       "      <th>17</th>\n",
       "      <td>shravi</td>\n",
       "      <td>18</td>\n",
       "      <td>fail</td>\n",
       "    </tr>\n",
       "    <tr>\n",
       "      <th>4</th>\n",
       "      <td>sujit</td>\n",
       "      <td>5</td>\n",
       "      <td>fail</td>\n",
       "    </tr>\n",
       "    <tr>\n",
       "      <th>13</th>\n",
       "      <td>suman</td>\n",
       "      <td>14</td>\n",
       "      <td>fail</td>\n",
       "    </tr>\n",
       "    <tr>\n",
       "      <th>8</th>\n",
       "      <td>suresh</td>\n",
       "      <td>9</td>\n",
       "      <td>pass</td>\n",
       "    </tr>\n",
       "    <tr>\n",
       "      <th>0</th>\n",
       "      <td>vineet</td>\n",
       "      <td>1</td>\n",
       "      <td>fail</td>\n",
       "    </tr>\n",
       "  </tbody>\n",
       "</table>\n",
       "</div>"
      ],
      "text/plain": [
       "       names rno results\n",
       "3      ajeet   4    pass\n",
       "15      aman  16    fail\n",
       "18    chavvi  19    pass\n",
       "12   chitesh  13    fail\n",
       "19  himanshu  20    pass\n",
       "1     hisham   2    fail\n",
       "10    hitesh  11    pass\n",
       "11     jatin  12    fail\n",
       "6      priya   7    fail\n",
       "7   priyanka   8    pass\n",
       "2        raj   3    pass\n",
       "14     raman  15    pass\n",
       "5     ramesh   6    pass\n",
       "16      ravi  17    pass\n",
       "9     ritesh  10    pass\n",
       "17    shravi  18    fail\n",
       "4      sujit   5    fail\n",
       "13     suman  14    fail\n",
       "8     suresh   9    pass\n",
       "0     vineet   1    fail"
      ]
     },
     "execution_count": 20,
     "metadata": {},
     "output_type": "execute_result"
    }
   ],
   "source": [
    "df4.sort_values('names')\n"
   ]
  },
  {
   "cell_type": "code",
   "execution_count": null,
   "id": "5772ece1",
   "metadata": {},
   "outputs": [],
   "source": []
  }
 ],
 "metadata": {
  "kernelspec": {
   "display_name": "Python 3 (ipykernel)",
   "language": "python",
   "name": "python3"
  },
  "language_info": {
   "codemirror_mode": {
    "name": "ipython",
    "version": 3
   },
   "file_extension": ".py",
   "mimetype": "text/x-python",
   "name": "python",
   "nbconvert_exporter": "python",
   "pygments_lexer": "ipython3",
   "version": "3.11.3"
  }
 },
 "nbformat": 4,
 "nbformat_minor": 5
}
