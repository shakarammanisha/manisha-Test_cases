{
 "cells": [
  {
   "cell_type": "code",
   "execution_count": 10,
   "id": "fcc1f276",
   "metadata": {},
   "outputs": [
    {
     "name": "stdout",
     "output_type": "stream",
     "text": [
      "1 addition\n",
      "2 subtraction\n",
      "3 multiplication\n",
      "4 division\n",
      "Please select an option (1/2/3/4): 2\n",
      "Please enter the first value: 6\n",
      "Please enter the second value: 8\n",
      "The result of subtraction is: -2.0\n"
     ]
    }
   ],
   "source": [
    "def addition(a,b):\n",
    "    return a+b\n",
    "\n",
    "def subtraction(a,b):\n",
    "    return a-b\n",
    "\n",
    "def multiplication(a,b):\n",
    "    return a*b\n",
    "\n",
    "def division(a,b):\n",
    "    return a/b\n",
    "\n",
    "print(\"1 addition\")\n",
    "print(\"2 subtraction\")\n",
    "print(\"3 multiplication\")\n",
    "print(\"4 division\")\n",
    "\n",
    "# prompt user for input\n",
    "choice = int(input(\"Please select an option (1/2/3/4): \"))\n",
    "num1 = float(input(\"Please enter the first value: \"))\n",
    "num2 = float(input(\"Please enter the second value: \"))\n",
    "\n",
    "# perform selected operation\n",
    "if choice == 1:\n",
    "    result = addition(num1, num2)\n",
    "    print(\"The result of addition is:\", result)\n",
    "elif choice == 2:\n",
    "    result = subtraction(num1, num2)\n",
    "    print(\"The result of subtraction is:\", result)\n",
    "elif choice == 3:\n",
    "    result = multiplication(num1, num2)\n",
    "    print(\"The result of multiplication is:\", result)\n",
    "elif choice == 4:\n",
    "    result = division(num1, num2)\n",
    "    print(\"The result of division is:\", result)\n",
    "else:\n",
    "    print(\"Invalid input\")"
   ]
  }
 ],
 "metadata": {
  "kernelspec": {
   "display_name": "Python 3 (ipykernel)",
   "language": "python",
   "name": "python3"
  },
  "language_info": {
   "codemirror_mode": {
    "name": "ipython",
    "version": 3
   },
   "file_extension": ".py",
   "mimetype": "text/x-python",
   "name": "python",
   "nbconvert_exporter": "python",
   "pygments_lexer": "ipython3",
   "version": "3.11.3"
  }
 },
 "nbformat": 4,
 "nbformat_minor": 5
}
